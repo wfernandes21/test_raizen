{
 "cells": [
  {
   "cell_type": "markdown",
   "metadata": {},
   "source": [
    "## INSTALAR "
   ]
  },
  {
   "cell_type": "code",
   "execution_count": null,
   "metadata": {},
   "outputs": [],
   "source": [
    "## pip install pandas\n",
    "## pip install numpy\n",
    "## pip install python-dateutil\n",
    "## pip install openpyxl\n",
    "## pip install requests_html\n",
    "## pip install cryptography\n",
    "## pip install smtplib\n",
    "## pip install email\n",
    "## pip install mimetypes"
   ]
  },
  {
   "cell_type": "markdown",
   "metadata": {},
   "source": [
    "## Biblioteca"
   ]
  },
  {
   "cell_type": "code",
   "execution_count": null,
   "metadata": {},
   "outputs": [],
   "source": [
    "import os\n",
    "import pandas as pd\n",
    "import numpy as np\n",
    "from pathlib import Path\n",
    "import re\n",
    "import sys\n",
    "import urllib.request\n",
    "from datetime import datetime\n",
    "import dateutil.relativedelta\n",
    "import time\n",
    "from time import sleep\n",
    "import random\n",
    "import openpyxl\n",
    "from openpyxl import Workbook, load_workbook\n",
    "from openpyxl.drawing.image import Image\n",
    "from openpyxl.utils.dataframe import dataframe_to_rows\n",
    "from sklearn.model_selection import ParameterGrid\n",
    "from requests_html import HTMLSession\n",
    "import urllib"
   ]
  },
  {
   "cell_type": "markdown",
   "metadata": {},
   "source": [
    "### Baixar arquivo da https://www.gov.br/anp/pt-br/centrais-de-conteudo"
   ]
  },
  {
   "cell_type": "code",
   "execution_count": null,
   "metadata": {},
   "outputs": [],
   "source": [
    "dir = './down_base'\n",
    "try:\n",
    "    os.makedirs(dir)\n",
    "    print('diretorio criado')\n",
    "except:\n",
    "    print('diretorio já existe')"
   ]
  },
  {
   "cell_type": "code",
   "execution_count": null,
   "metadata": {},
   "outputs": [],
   "source": [
    "data_link = pd.DataFrame({'link': ['https://dados.gov.br/dataset/vendas-de-derivados-de-petroleo-e-biocombustiveis/resource/c3d6e0b4-f86e-48f8-9325-6cc0d434b33f?inner_span=True', 'https://dados.gov.br/dataset/vendas-de-derivados-de-petroleo-e-biocombustiveis/resource/2429fdeb-df86-4e63-b248-2038f6c3e3cc?inner_span=True'],'tipo':['Derivados','Disel']})"
   ]
  },
  {
   "cell_type": "code",
   "execution_count": null,
   "metadata": {},
   "outputs": [],
   "source": [
    "## Ele acessa o site para pegar o link da ultima atualização\n",
    "df_links = pd.DataFrame()\n",
    "\n",
    "try:\n",
    "    for i, row in data_link.iterrows():\n",
    "        tipo = row['tipo']\n",
    "        with HTMLSession() as s:\n",
    "            df = pd.DataFrame()\n",
    "            r = s.get(row['link'])\n",
    "            hiddens = r.html.find('a', containing='https://www.gov.br/anp/pt-br/centrais-de-conteudo', first=True)#r.html.find('div[role=main]', first=True)\n",
    "            df = pd.DataFrame([hiddens.links])\n",
    "            df['tipo']= tipo\n",
    "            df_links = df_links.append(df)\n",
    "            print(\"dados {} deu bom !\".format(row['link']))\n",
    "\n",
    "except:\n",
    "     print(\"dados {} deu Ruim !\".format(row['link']))"
   ]
  },
  {
   "cell_type": "code",
   "execution_count": null,
   "metadata": {},
   "outputs": [],
   "source": [
    "# baixa csv direto do site\n",
    "try:\n",
    "    for i, row in df_links.iterrows():\n",
    "        link = row[0]\n",
    "        tipo = row['tipo']\n",
    "        urllib.request.urlretrieve(link, \"./down_base/dados_\"+ tipo+\".csv\")\n",
    "        print(\"Dados \" + tipo + \" Baixado\")  \n",
    "except:\n",
    "        print(\"Dados \" + tipo + \" Deu Ruim\")  "
   ]
  },
  {
   "cell_type": "code",
   "execution_count": null,
   "metadata": {},
   "outputs": [],
   "source": [
    "# Baixa arquivo pivotado apenas para saber a data da verção do arquivo\n",
    "urllib.request.urlretrieve(\"https://www.gov.br/anp/pt-br/centrais-de-conteudo/dados-estatisticos/de/vdpb/vendas-combustiveis-m3.xls/@@download/file/vendas-combustiveis-m3.xlsx\", \"./down_base/vendas-combustiveis-m3.xlsx\")\n",
    "print(\"Dados Pivotado Baixado\") "
   ]
  },
  {
   "cell_type": "code",
   "execution_count": null,
   "metadata": {},
   "outputs": [],
   "source": [
    "book = openpyxl.load_workbook('./down_base/vendas-combustiveis-m3.xlsx')\n",
    "sheet = book['Plan1']\n",
    "DADOS_AT = sheet.cell(row=42, column=2)"
   ]
  },
  {
   "cell_type": "code",
   "execution_count": null,
   "metadata": {},
   "outputs": [],
   "source": [
    "DADOS_AT = [sheet.cell(row=42, column=2).value]"
   ]
  },
  {
   "cell_type": "markdown",
   "metadata": {},
   "source": [
    "### Configura data da atualização"
   ]
  },
  {
   "cell_type": "code",
   "execution_count": null,
   "metadata": {},
   "outputs": [],
   "source": [
    "DADOS_AT = pd.DataFrame(DADOS_AT, columns =['at_data'])"
   ]
  },
  {
   "cell_type": "code",
   "execution_count": null,
   "metadata": {},
   "outputs": [],
   "source": [
    "DADOS_AT[['val1', 'val2', 'val3', 'val4', 'val5', 'val6', 'val7', 'val8']] = DADOS_AT['at_data'].str.split(' ', expand=True)\n",
    "DADOS_AT['val8'] = DADOS_AT['val8'].str.replace(\".\",\"\")"
   ]
  },
  {
   "cell_type": "code",
   "execution_count": null,
   "metadata": {},
   "outputs": [],
   "source": [
    "def mes(row):  \n",
    "    mes = row['val6']\n",
    "\n",
    "    if mes == \"janeiro\":\n",
    "        return(\"1\")\n",
    "    elif mes == \"fevereiro\":\n",
    "        return(\"2\")\n",
    "    elif mes == \"março\":\n",
    "        return(\"3\")\n",
    "    elif mes == \"abril\":\n",
    "        return(\"4\")\n",
    "    elif mes == \"maio\":\n",
    "        return(\"5\")\n",
    "    elif mes == \"junho\":\n",
    "        return(\"6\")\n",
    "    elif mes == \"julho\":\n",
    "        return(\"7\")\n",
    "    elif mes == \"agosto\":\n",
    "        return(\"8\")\n",
    "    elif mes == \"setembro\":\n",
    "        return(\"9\")\n",
    "    elif mes == \"outubro\":\n",
    "        return(\"10\")\n",
    "    elif mes == \"novembro\":\n",
    "        return(\"11\")\n",
    "    elif mes == \"dezembro\":\n",
    "        return(\"12\")\n",
    "    "
   ]
  },
  {
   "cell_type": "code",
   "execution_count": null,
   "metadata": {},
   "outputs": [],
   "source": [
    "DADOS_AT['val6'] = DADOS_AT.apply(mes, axis=1)"
   ]
  },
  {
   "cell_type": "code",
   "execution_count": null,
   "metadata": {},
   "outputs": [],
   "source": [
    "#### ERRO DE DATA NA FONTE DO ARQUIVO\n",
    "DADOS_AT['val4'].mask(DADOS_AT['val4'].astype(int) > 31 ,'28', inplace=True)"
   ]
  },
  {
   "cell_type": "code",
   "execution_count": null,
   "metadata": {},
   "outputs": [],
   "source": [
    "DADOS_AT['data_f'] = DADOS_AT['val4'] + \"/\" + DADOS_AT['val6'] + \"/\" + DADOS_AT['val8'] + \" 00:00:00\""
   ]
  },
  {
   "cell_type": "code",
   "execution_count": null,
   "metadata": {},
   "outputs": [],
   "source": [
    "DADOS_AT['data_f'] = pd.to_datetime(DADOS_AT['data_f'])"
   ]
  },
  {
   "cell_type": "markdown",
   "metadata": {},
   "source": [
    "### Baixando abas criadas no excel (automático)"
   ]
  },
  {
   "cell_type": "code",
   "execution_count": null,
   "metadata": {},
   "outputs": [],
   "source": [
    "DF_DERIVADO =pd.read_csv('./down_base/dados_Derivados.csv', sep = ';');  "
   ]
  },
  {
   "cell_type": "code",
   "execution_count": null,
   "metadata": {},
   "outputs": [],
   "source": [
    "DF_DERIVADO_FINAL = DF_DERIVADO.rename(columns={\"UNIDADE DA FEDERAÇÃO\": \"uf\", \"PRODUTO\": \"product\", 'MÊS':'month', 'ANO':'year', 'VENDAS': 'volume'})"
   ]
  },
  {
   "cell_type": "code",
   "execution_count": null,
   "metadata": {},
   "outputs": [],
   "source": [
    "DF_DERIVADO_FINAL ['unit'] = 'm3'"
   ]
  },
  {
   "cell_type": "code",
   "execution_count": null,
   "metadata": {},
   "outputs": [],
   "source": [
    "DF_DERIVADO_FINAL['volume'] = DF_DERIVADO_FINAL.volume.str.replace(',', '.').apply(lambda x: float(x))"
   ]
  },
  {
   "cell_type": "code",
   "execution_count": null,
   "metadata": {},
   "outputs": [],
   "source": [
    "DF_DERIVADO_FINAL = DF_DERIVADO_FINAL[[\"product\", \"year\", \"uf\", \"unit\", 'month','volume' ]]"
   ]
  },
  {
   "cell_type": "code",
   "execution_count": null,
   "metadata": {},
   "outputs": [],
   "source": [
    "DF_DISEL =pd.read_csv('./down_base/dados_Disel.csv', sep = ';');"
   ]
  },
  {
   "cell_type": "code",
   "execution_count": null,
   "metadata": {},
   "outputs": [],
   "source": [
    "DF_DISEL_FINAL = DF_DISEL.rename(columns={\"UNIDADE DA FEDERAÇÃO\": \"uf\", \"PRODUTO\": \"product\", 'MÊS':'month', 'ANO':'year', 'VENDAS': 'volume'})"
   ]
  },
  {
   "cell_type": "code",
   "execution_count": null,
   "metadata": {},
   "outputs": [],
   "source": [
    "DF_DISEL_FINAL ['unit'] = 'm3'"
   ]
  },
  {
   "cell_type": "code",
   "execution_count": null,
   "metadata": {},
   "outputs": [],
   "source": [
    "DF_DISEL_FINAL['volume'] = DF_DISEL_FINAL.volume.str.replace(',', '.').apply(lambda x: float(x))"
   ]
  },
  {
   "cell_type": "code",
   "execution_count": null,
   "metadata": {},
   "outputs": [],
   "source": [
    "DF_DISEL_FINAL = DF_DISEL_FINAL[[\"product\", \"year\", \"uf\", \"unit\", 'month','volume' ]]"
   ]
  },
  {
   "cell_type": "markdown",
   "metadata": {},
   "source": [
    "### Modelando dados do DF_DISEL_FINAL"
   ]
  },
  {
   "cell_type": "code",
   "execution_count": null,
   "metadata": {},
   "outputs": [],
   "source": [
    "def mes2(row):  \n",
    "    mes = row['month']\n",
    "\n",
    "    if mes == \"JAN\":\n",
    "        return(\"01\")\n",
    "    elif mes == \"FEV\":\n",
    "        return(\"02\")\n",
    "    elif mes == \"MAR\":\n",
    "        return(\"03\")\n",
    "    elif mes == \"ABR\":\n",
    "        return(\"04\")\n",
    "    elif mes == \"MAI\":\n",
    "        return(\"05\")\n",
    "    elif mes == \"JUN\":\n",
    "        return(\"06\")\n",
    "    elif mes == \"JUL\":\n",
    "        return(\"07\")\n",
    "    elif mes == \"AGO\":\n",
    "        return(\"08\")\n",
    "    elif mes == \"SET\":\n",
    "        return(\"09\")\n",
    "    elif mes == \"OUT\":\n",
    "        return(\"10\")\n",
    "    elif mes == \"NOV\":\n",
    "        return(\"11\")\n",
    "    elif mes == \"DEZ\":\n",
    "        return(\"12\")"
   ]
  },
  {
   "cell_type": "code",
   "execution_count": null,
   "metadata": {},
   "outputs": [],
   "source": [
    "DF_DISEL_FINAL['month'] = DF_DISEL_FINAL.apply(mes2, axis=1)"
   ]
  },
  {
   "cell_type": "code",
   "execution_count": null,
   "metadata": {},
   "outputs": [],
   "source": [
    "DF_DISEL_FINAL['year_month'] = DF_DISEL_FINAL['year'].astype(str) +\"/\"+ DF_DISEL_FINAL['month']\n",
    "DF_DISEL_FINAL = DF_DISEL_FINAL.drop(columns=['year','month']);"
   ]
  },
  {
   "cell_type": "code",
   "execution_count": null,
   "metadata": {},
   "outputs": [],
   "source": [
    "day_t = DADOS_AT['data_f'].iloc[0]"
   ]
  },
  {
   "cell_type": "code",
   "execution_count": null,
   "metadata": {},
   "outputs": [],
   "source": [
    "DF_DISEL_FINAL['created_at'] = day_t"
   ]
  },
  {
   "cell_type": "code",
   "execution_count": null,
   "metadata": {},
   "outputs": [],
   "source": [
    "DF_DISEL_FINAL = DF_DISEL_FINAL.rename(columns={\"ESTADO\": \"uf\", \"UNIDADE\": \"unit\", \"UNIDADE\": \"unit\", \"COMBUSTÍVEL\": \"product\"})\n"
   ]
  },
  {
   "cell_type": "code",
   "execution_count": null,
   "metadata": {},
   "outputs": [],
   "source": [
    "DF_DISEL_FINAL = DF_DISEL_FINAL[[\n",
    "\n",
    "'year_month',\n",
    "'uf',\n",
    "'product',\n",
    "'unit',\n",
    "'volume',\n",
    "'created_at'\n",
    "\n",
    "]]"
   ]
  },
  {
   "cell_type": "code",
   "execution_count": null,
   "metadata": {},
   "outputs": [],
   "source": [
    "DF_DISEL_FINAL = DF_DISEL_FINAL.sort_values(by=['year_month','uf','product'], ascending=True)"
   ]
  },
  {
   "cell_type": "code",
   "execution_count": null,
   "metadata": {},
   "outputs": [],
   "source": [
    "DF_DISEL_FINAL = DF_DISEL_FINAL.reset_index(drop=True)"
   ]
  },
  {
   "cell_type": "markdown",
   "metadata": {},
   "source": [
    "### Modelando dados do DF_DERIVADO_FINAL"
   ]
  },
  {
   "cell_type": "code",
   "execution_count": null,
   "metadata": {},
   "outputs": [],
   "source": [
    "DF_DERIVADO_FINAL['month'] = DF_DERIVADO_FINAL.apply(mes2, axis=1)"
   ]
  },
  {
   "cell_type": "code",
   "execution_count": null,
   "metadata": {},
   "outputs": [],
   "source": [
    "DF_DERIVADO_FINAL['year_month'] = DF_DERIVADO_FINAL['year'].astype(str) +\"/\"+ DF_DERIVADO_FINAL['month']\n",
    "DF_DERIVADO_FINAL = DF_DERIVADO_FINAL.drop(columns=['year','month']);"
   ]
  },
  {
   "cell_type": "code",
   "execution_count": null,
   "metadata": {},
   "outputs": [],
   "source": [
    "DF_DERIVADO_FINAL['created_at'] = day_t"
   ]
  },
  {
   "cell_type": "code",
   "execution_count": null,
   "metadata": {},
   "outputs": [],
   "source": [
    "DF_DERIVADO_FINAL = DF_DERIVADO_FINAL[[\n",
    "\n",
    "'year_month',\n",
    "'uf',\n",
    "'product',\n",
    "'unit',\n",
    "'volume',\n",
    "'created_at'\n",
    "\n",
    "]]"
   ]
  },
  {
   "cell_type": "code",
   "execution_count": null,
   "metadata": {},
   "outputs": [],
   "source": [
    "DF_DERIVADO_FINAL = DF_DERIVADO_FINAL.sort_values(by=['year_month','uf','product'], ascending=True)"
   ]
  },
  {
   "cell_type": "code",
   "execution_count": null,
   "metadata": {},
   "outputs": [],
   "source": [
    "DF_DERIVADO_FINAL = DF_DERIVADO_FINAL.reset_index(drop=True)"
   ]
  },
  {
   "cell_type": "markdown",
   "metadata": {},
   "source": [
    "### Confirmando resultado agrupado"
   ]
  },
  {
   "cell_type": "code",
   "execution_count": null,
   "metadata": {},
   "outputs": [],
   "source": [
    "PIVOT_DF_DISEL_FINAL = pd.pivot_table(DF_DISEL_FINAL,\n",
    "   index=['year_month'],\n",
    "   values=['volume'],\n",
    "   columns=[ 'product'],\n",
    "   fill_value='',\n",
    "   aggfunc=np.sum,\n",
    "   margins=True,\n",
    "   margins_name='Total')"
   ]
  },
  {
   "cell_type": "code",
   "execution_count": null,
   "metadata": {},
   "outputs": [],
   "source": [
    "PIVOT_DF_DERIVADO_FINAL = pd.pivot_table(DF_DERIVADO_FINAL,\n",
    "   index=['year_month'],\n",
    "   values=['volume'],\n",
    "   columns=[ 'product'],\n",
    "   fill_value='',\n",
    "   aggfunc=np.sum,\n",
    "   margins=True,\n",
    "   margins_name='Total')"
   ]
  },
  {
   "cell_type": "markdown",
   "metadata": {},
   "source": [
    "### Modelando dados do DF_BIG_TABLE"
   ]
  },
  {
   "cell_type": "code",
   "execution_count": null,
   "metadata": {},
   "outputs": [],
   "source": [
    "DF_BIG_1 = DF_DERIVADO_FINAL.copy()\n",
    "DF_BIG_2 = DF_DISEL_FINAL.copy()"
   ]
  },
  {
   "cell_type": "code",
   "execution_count": null,
   "metadata": {},
   "outputs": [],
   "source": [
    "DF_BIG_1 ['DATA'] = 'DADOS_DERIVADO' \n",
    "DF_BIG_2 ['DATA'] = 'DADOS_DISEL'"
   ]
  },
  {
   "cell_type": "code",
   "execution_count": null,
   "metadata": {},
   "outputs": [],
   "source": [
    "DF_BIG_FINAL = DF_BIG_1.append(DF_BIG_2, ignore_index=True)"
   ]
  },
  {
   "cell_type": "markdown",
   "metadata": {},
   "source": [
    "### Salvando no Excel"
   ]
  },
  {
   "cell_type": "code",
   "execution_count": null,
   "metadata": {},
   "outputs": [],
   "source": [
    "dir = './new_tables'\n",
    "try:\n",
    "    os.makedirs(dir)\n",
    "    print('diretorio criado')\n",
    "except:\n",
    "    print('diretorio já existe')"
   ]
  },
  {
   "cell_type": "code",
   "execution_count": null,
   "metadata": {},
   "outputs": [],
   "source": [
    "# criar workbook\n",
    "wb = Workbook('./new_tables/big_table.xlsx')\n",
    "wb.save('./new_tables/big_table.xlsx')\n",
    "wb = load_workbook('./new_tables/big_table.xlsx')\n"
   ]
  },
  {
   "cell_type": "code",
   "execution_count": null,
   "metadata": {},
   "outputs": [],
   "source": [
    "# adicionar workbook\n",
    "sheet1 = wb.create_sheet('DF_DERIVADO_FINAL',0)\n",
    "sheet2 = wb.create_sheet('DF_DISEL_FINAL',1)\n",
    "sheet3 = wb.create_sheet('DF_BIG_FINAL',2)\n",
    "sheet4 = wb.create_sheet('PIVOT_DF_DISEL_FINAL',3)\n",
    "sheet5 = wb.create_sheet('PIVOT_DF_DERIVADO_FINAL',4)\n"
   ]
  },
  {
   "cell_type": "code",
   "execution_count": null,
   "metadata": {},
   "outputs": [],
   "source": [
    "# Remove existing sheet\n",
    "ref = wb['Sheet']\n",
    "wb.remove(ref)"
   ]
  },
  {
   "cell_type": "code",
   "execution_count": null,
   "metadata": {},
   "outputs": [],
   "source": [
    "# Seleciona sheet e exporta os dados\n",
    "\n",
    "active = wb['DF_DERIVADO_FINAL']\n",
    "for x in dataframe_to_rows(DF_DERIVADO_FINAL, index = False):\n",
    "     active.append(x)\n",
    "        \n",
    "active = wb['DF_DISEL_FINAL']\n",
    "for x in dataframe_to_rows(DF_DISEL_FINAL, index = False):\n",
    "     active.append(x)\n",
    "        \n",
    "active = wb['DF_BIG_FINAL']\n",
    "for x in dataframe_to_rows(DF_BIG_FINAL, index = False):\n",
    "     active.append(x)\n",
    "        \n",
    "active = wb['PIVOT_DF_DISEL_FINAL']\n",
    "for x in dataframe_to_rows(PIVOT_DF_DISEL_FINAL, index = False):\n",
    "     active.append(x)\n",
    "        \n",
    "active = wb['PIVOT_DF_DERIVADO_FINAL']\n",
    "for x in dataframe_to_rows(PIVOT_DF_DERIVADO_FINAL, index = False):\n",
    "     active.append(x)"
   ]
  },
  {
   "cell_type": "code",
   "execution_count": null,
   "metadata": {},
   "outputs": [],
   "source": [
    "# Salva a excel\n",
    "wb.save('./new_tables/big_table.xlsx')"
   ]
  },
  {
   "cell_type": "markdown",
   "metadata": {},
   "source": [
    "### Email Teste"
   ]
  },
  {
   "cell_type": "code",
   "execution_count": null,
   "metadata": {},
   "outputs": [],
   "source": [
    "# Modulos para manipulação de email\n",
    "import smtplib\n",
    "import email, smtplib, ssl\n",
    "#import email\n",
    "import email, smtplib, ssl\n",
    "from email import encoders\n",
    "#import email.mime.application\n",
    "from email import encoders\n",
    "from email.mime.base import MIMEBase\n",
    "from email.mime.multipart import MIMEMultipart\n",
    "from email.mime.text import MIMEText\n",
    "#import mimetypes\n",
    "import mimetypes"
   ]
  },
  {
   "cell_type": "code",
   "execution_count": null,
   "metadata": {},
   "outputs": [],
   "source": [
    "##### Senha do email Criptografado\n",
    "from cryptography.fernet import Fernet \n",
    "with open('filekey.key', 'rb') as filekey:\n",
    "    key = filekey.read()\n",
    "    fernet = Fernet(key)\n",
    "    token = fernet.decrypt(b'gAAAAABifI8x6ATV1HSDBBDCPAJ2yZTWCJryQvN-e7k1ZFvixWKhE9XIaaglT58RuHHR_Gcri4FW6FEgL6MSrx-WqHwqbveNmg==') "
   ]
  },
  {
   "cell_type": "code",
   "execution_count": null,
   "metadata": {},
   "outputs": [],
   "source": [
    "### dados login servidor\n",
    "sender_email = \"flowbot@tischool.net\"\n",
    "#receiver_email = \"weslleyfernand@gmail.com\"\n",
    "receiver_email = \"Rodrigo.Balero@raizen.com\"\n",
    "password = fernet.decrypt(b'gAAAAABifI8x6ATV1HSDBBDCPAJ2yZTWCJryQvN-e7k1ZFvixWKhE9XIaaglT58RuHHR_Gcri4FW6FEgL6MSrx-WqHwqbveNmg==')\n",
    "\n",
    "#######Dados do email se sofrer alteração\n",
    "subject = \"Email com o Resultado do desafio em anexo\"\n",
    "body = \"Segue em anexo o big_table.xlsx\"\n",
    "\n",
    "#######Dados se não sofrer alteração\n",
    "subject2 = \"Relatorio do apn sem alteração\"\n",
    "body2 = \"Relatorio não sofreu ateração desde o dia \" + DADOS_AT['at_data'][0]"
   ]
  },
  {
   "cell_type": "code",
   "execution_count": null,
   "metadata": {},
   "outputs": [],
   "source": [
    "# Conexão dos dados de send/receiver\n",
    "message = MIMEMultipart()\n",
    "message[\"From\"] = sender_email\n",
    "message[\"To\"] = receiver_email\n",
    "message[\"Subject\"] = subject\n",
    "message[\"Bcc\"] = receiver_email  # Recommended for mass emails\n",
    "\n",
    "# Corpo do email\n",
    "message.attach(MIMEText(body, \"plain\"))\n",
    "\n",
    "filename = \"./new_tables/big_table.xlsx\"  # In same directory as script\n",
    "\n",
    "# Envio do arquivo em Binario\n",
    "with open(filename, \"rb\") as attachment:\n",
    "    # Add file as application/octet-stream\n",
    "    # Email client can usually download this automatically as attachment\n",
    "    part = MIMEBase(\"application\", \"octet-stream\")\n",
    "    part.set_payload(attachment.read())\n",
    "\n",
    "# Encode ASCII para envio do email   \n",
    "encoders.encode_base64(part)\n",
    "\n",
    "# Add header\n",
    "part.add_header(\n",
    "    \"Content-Disposition\",\n",
    "    f\"attachment; filename= {filename}\",\n",
    ")\n",
    "\n",
    "# Add attachment\n",
    "message.attach(part)\n",
    "text = message.as_string()"
   ]
  },
  {
   "cell_type": "code",
   "execution_count": null,
   "metadata": {},
   "outputs": [],
   "source": [
    "try:\n",
    "    lastversion =pd.read_csv('lastversion.csv', sep = ';') \n",
    "    if lastversion['at_data'][0] != DADOS_AT['at_data'][0] :\n",
    "    \n",
    "        # Log no servidor com context e envio do email\n",
    "        context = ssl.create_default_context()\n",
    "        with smtplib.SMTP(\"mail.tischool.net\", 587) as server:\n",
    "            server.login(sender_email, password.decode())\n",
    "            server.sendmail(sender_email, receiver_email, text)\n",
    "    else:\n",
    "        # Conexão dos dados de send/receiver\n",
    "        message2 = MIMEMultipart()\n",
    "        message2[\"From\"] = sender_email\n",
    "        message2[\"To\"] = receiver_email\n",
    "        message2[\"Subject\"] = subject2\n",
    "        message2[\"Bcc\"] = receiver_email  # Recommended for mass emails\n",
    "\n",
    "        # Corpo do email\n",
    "        message2.attach(MIMEText(body2, \"plain\"))\n",
    "        #######Dados do email send/receiver\n",
    "\n",
    "        text2 = message2.as_string()\n",
    "        # Log no servidor com context e envio do email\n",
    "        context = ssl.create_default_context()\n",
    "        with smtplib.SMTP(\"mail.tischool.net\", 587) as server:\n",
    "            server.login(sender_email, password.decode())\n",
    "            server.sendmail(sender_email, receiver_email, text2) \n",
    "        print('versão já enviada')\n",
    "except:\n",
    "\n",
    "    # Log no servidor com context e envio do email\n",
    "    context = ssl.create_default_context()\n",
    "    with smtplib.SMTP(\"mail.tischool.net\", 587) as server:\n",
    "        server.login(sender_email, password.decode())\n",
    "        server.sendmail(sender_email, receiver_email, text) "
   ]
  },
  {
   "cell_type": "code",
   "execution_count": null,
   "metadata": {},
   "outputs": [],
   "source": [
    "lastversion = DADOS_AT['at_data']\n",
    "lastversion.to_csv('lastversion.csv', sep = ';')"
   ]
  },
  {
   "cell_type": "code",
   "execution_count": null,
   "metadata": {},
   "outputs": [],
   "source": []
  }
 ],
 "metadata": {
  "kernelspec": {
   "display_name": "Python 3 (ipykernel)",
   "language": "python",
   "name": "python3"
  },
  "language_info": {
   "codemirror_mode": {
    "name": "ipython",
    "version": 3
   },
   "file_extension": ".py",
   "mimetype": "text/x-python",
   "name": "python",
   "nbconvert_exporter": "python",
   "pygments_lexer": "ipython3",
   "version": "3.9.13"
  }
 },
 "nbformat": 4,
 "nbformat_minor": 2
}
